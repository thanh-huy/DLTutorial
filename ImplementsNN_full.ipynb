{
 "cells": [
  {
   "metadata": {},
   "cell_type": "markdown",
   "source": "# Xây dựng mô hình mạng Neural đầy đủ",
   "id": "9044348665c38bcf"
  },
  {
   "metadata": {},
   "cell_type": "markdown",
   "source": "## 1. Tải dữ liệu",
   "id": "d839846fd5e48cd"
  },
  {
   "metadata": {
    "collapsed": true,
    "ExecuteTime": {
     "end_time": "2025-06-18T09:38:02.255348Z",
     "start_time": "2025-06-18T09:38:02.253344Z"
    }
   },
   "cell_type": "code",
   "source": [
    "import torch\n",
    "from torch import nn\n",
    "from torch.utils.data import DataLoader\n",
    "from torchvision import datasets\n",
    "from torchvision.transforms import ToTensor\n",
    "import os"
   ],
   "id": "initial_id",
   "outputs": [],
   "execution_count": 13
  },
  {
   "metadata": {
    "ExecuteTime": {
     "end_time": "2025-06-18T09:56:58.864925Z",
     "start_time": "2025-06-18T09:56:28.490888Z"
    }
   },
   "cell_type": "code",
   "source": [
    "training_data = datasets.FashionMNIST(root='./data', train=True, download=True , transform=ToTensor())\n",
    "testing_data = datasets.FashionMNIST(root='./data', train=False, download=True , transform=ToTensor())"
   ],
   "id": "966633a72f309f0a",
   "outputs": [
    {
     "name": "stderr",
     "output_type": "stream",
     "text": [
      "100.0%\n",
      "100.0%\n",
      "100.0%\n",
      "100.0%\n"
     ]
    }
   ],
   "execution_count": 36
  },
  {
   "metadata": {
    "ExecuteTime": {
     "end_time": "2025-06-18T09:58:04.121129Z",
     "start_time": "2025-06-18T09:58:04.118819Z"
    }
   },
   "cell_type": "code",
   "source": [
    "train_dataloader = DataLoader(training_data, batch_size=64, shuffle=True)\n",
    "test_dataloader = DataLoader(testing_data, batch_size=64, shuffle=True)"
   ],
   "id": "e378b5e00d08bec4",
   "outputs": [],
   "execution_count": 37
  },
  {
   "metadata": {
    "ExecuteTime": {
     "end_time": "2025-06-18T09:59:57.141228Z",
     "start_time": "2025-06-18T09:59:57.133258Z"
    }
   },
   "cell_type": "code",
   "source": [
    "class NeuralNetwork(nn.Module):\n",
    "    def __init__(self):\n",
    "        super().__init__()\n",
    "        self.flatten = nn.Flatten()\n",
    "        self.linear_relu_stack = nn.Sequential(\n",
    "            nn.Linear(28 * 28, 512),\n",
    "            nn.ReLU(),\n",
    "            nn.Linear(512, 512),\n",
    "            nn.ReLU(),\n",
    "            nn.Linear(512, 10),\n",
    "        )\n",
    "    def forward(self, x):\n",
    "        x = self.flatten(x)\n",
    "        logits = self.linear_relu_stack(x)\n",
    "        return logits\n",
    "model = NeuralNetwork()"
   ],
   "id": "db89b741bb1c6988",
   "outputs": [],
   "execution_count": 38
  },
  {
   "metadata": {
    "ExecuteTime": {
     "end_time": "2025-06-18T10:00:15.313814Z",
     "start_time": "2025-06-18T10:00:15.311610Z"
    }
   },
   "cell_type": "code",
   "source": [
    "learning_rate = 1e-3\n",
    "batch_size = 64\n",
    "epochs = 5"
   ],
   "id": "eff7c9e269402fd1",
   "outputs": [],
   "execution_count": 39
  },
  {
   "metadata": {
    "ExecuteTime": {
     "end_time": "2025-06-18T10:00:27.260996Z",
     "start_time": "2025-06-18T10:00:27.257371Z"
    }
   },
   "cell_type": "code",
   "source": [
    "# Chọn loss function\n",
    "loss_fn = nn.CrossEntropyLoss()"
   ],
   "id": "d49ac31a56211b36",
   "outputs": [],
   "execution_count": 40
  },
  {
   "metadata": {
    "ExecuteTime": {
     "end_time": "2025-06-18T10:01:04.903809Z",
     "start_time": "2025-06-18T10:01:04.900509Z"
    }
   },
   "cell_type": "code",
   "source": [
    "# Chọn bộ tối ưu hóa SGD\n",
    "optimizer = torch.optim.SGD(model.parameters(), lr=learning_rate)"
   ],
   "id": "b6538ffd4e484ba",
   "outputs": [],
   "execution_count": 41
  },
  {
   "metadata": {
    "ExecuteTime": {
     "end_time": "2025-06-18T10:02:05.751781Z",
     "start_time": "2025-06-18T10:02:05.746658Z"
    }
   },
   "cell_type": "code",
   "source": [
    "def train_loop(dataloader, model, loss_fn, optimizer):\n",
    "    size = len(dataloader.dataset)\n",
    "\n",
    "    model.train()\n",
    "    for batch, (X, y) in enumerate(dataloader):\n",
    "        # Compute prediction and loss\n",
    "        pred = model(X)\n",
    "        loss = loss_fn(pred, y)\n",
    "\n",
    "        # Backpropagation\n",
    "        loss.backward()\n",
    "        optimizer.step()\n",
    "        optimizer.zero_grad()\n",
    "\n",
    "        if batch % 100 == 0:\n",
    "            loss, current = loss.item(), batch * batch_size + len(X)\n",
    "            print(f\"loss: {loss:>7f}  [{current:>5d}/{size:>5d}]\")\n",
    "\n",
    "\n",
    "def test_loop(dataloader, model, loss_fn):\n",
    "\n",
    "    model.eval()\n",
    "    size = len(dataloader.dataset)\n",
    "    num_batches = len(dataloader)\n",
    "    test_loss, correct = 0, 0\n",
    "\n",
    "    # Evaluating the model with torch.no_grad() ensures that no gradients are computed during test mode\n",
    "    # also serves to reduce unnecessary gradient computations and memory usage for tensors with requires_grad=True\n",
    "    with torch.no_grad():\n",
    "        for X, y in dataloader:\n",
    "            pred = model(X)\n",
    "            test_loss += loss_fn(pred, y).item()\n",
    "            correct += (pred.argmax(1) == y).type(torch.float).sum().item()\n",
    "\n",
    "    test_loss /= num_batches\n",
    "    correct /= size\n",
    "    print(f\"Test Error: \\n Accuracy: {(100*correct):>0.1f}%, Avg loss: {test_loss:>8f} \\n\")"
   ],
   "id": "eb2bd06290349a55",
   "outputs": [],
   "execution_count": 43
  },
  {
   "metadata": {
    "ExecuteTime": {
     "end_time": "2025-06-18T10:03:07.759982Z",
     "start_time": "2025-06-18T10:02:21.936622Z"
    }
   },
   "cell_type": "code",
   "source": [
    "loss_fn = nn.CrossEntropyLoss()\n",
    "optimizer = torch.optim.SGD(model.parameters(), lr=learning_rate)\n",
    "\n",
    "epochs = 10\n",
    "for t in range(epochs):\n",
    "    print(f\"Epoch {t+1}\\n-------------------------------\")\n",
    "    train_loop(train_dataloader, model, loss_fn, optimizer)\n",
    "    test_loop(test_dataloader, model, loss_fn)\n",
    "print(\"Done!\")"
   ],
   "id": "d66cdb9b0c209348",
   "outputs": [
    {
     "name": "stdout",
     "output_type": "stream",
     "text": [
      "Epoch 1\n",
      "-------------------------------\n",
      "loss: 2.300041  [   64/60000]\n",
      "loss: 2.287289  [ 6464/60000]\n",
      "loss: 2.271512  [12864/60000]\n",
      "loss: 2.256353  [19264/60000]\n",
      "loss: 2.255076  [25664/60000]\n",
      "loss: 2.212679  [32064/60000]\n",
      "loss: 2.204983  [38464/60000]\n",
      "loss: 2.192146  [44864/60000]\n",
      "loss: 2.195661  [51264/60000]\n",
      "loss: 2.153572  [57664/60000]\n",
      "Test Error: \n",
      " Accuracy: 47.7%, Avg loss: 2.151189 \n",
      "\n",
      "Epoch 2\n",
      "-------------------------------\n",
      "loss: 2.128464  [   64/60000]\n",
      "loss: 2.148231  [ 6464/60000]\n",
      "loss: 2.079188  [12864/60000]\n",
      "loss: 2.106180  [19264/60000]\n",
      "loss: 2.063033  [25664/60000]\n",
      "loss: 2.063523  [32064/60000]\n",
      "loss: 1.971497  [38464/60000]\n",
      "loss: 1.914664  [44864/60000]\n",
      "loss: 1.949022  [51264/60000]\n",
      "loss: 1.889342  [57664/60000]\n",
      "Test Error: \n",
      " Accuracy: 53.7%, Avg loss: 1.877857 \n",
      "\n",
      "Epoch 3\n",
      "-------------------------------\n",
      "loss: 1.851866  [   64/60000]\n",
      "loss: 1.898569  [ 6464/60000]\n",
      "loss: 1.805988  [12864/60000]\n",
      "loss: 1.855341  [19264/60000]\n",
      "loss: 1.706504  [25664/60000]\n",
      "loss: 1.597916  [32064/60000]\n",
      "loss: 1.628292  [38464/60000]\n",
      "loss: 1.620532  [44864/60000]\n",
      "loss: 1.636012  [51264/60000]\n",
      "loss: 1.558945  [57664/60000]\n",
      "Test Error: \n",
      " Accuracy: 60.1%, Avg loss: 1.523095 \n",
      "\n",
      "Epoch 4\n",
      "-------------------------------\n",
      "loss: 1.422964  [   64/60000]\n",
      "loss: 1.523019  [ 6464/60000]\n",
      "loss: 1.503162  [12864/60000]\n",
      "loss: 1.496453  [19264/60000]\n",
      "loss: 1.494549  [25664/60000]\n",
      "loss: 1.349598  [32064/60000]\n",
      "loss: 1.292087  [38464/60000]\n",
      "loss: 1.250656  [44864/60000]\n",
      "loss: 1.186115  [51264/60000]\n",
      "loss: 1.275057  [57664/60000]\n",
      "Test Error: \n",
      " Accuracy: 63.2%, Avg loss: 1.265770 \n",
      "\n",
      "Epoch 5\n",
      "-------------------------------\n",
      "loss: 1.196300  [   64/60000]\n",
      "loss: 1.176523  [ 6464/60000]\n",
      "loss: 1.243757  [12864/60000]\n",
      "loss: 1.223935  [19264/60000]\n",
      "loss: 1.228374  [25664/60000]\n",
      "loss: 1.048242  [32064/60000]\n",
      "loss: 1.123328  [38464/60000]\n",
      "loss: 1.123603  [44864/60000]\n",
      "loss: 1.034746  [51264/60000]\n",
      "loss: 1.074205  [57664/60000]\n",
      "Test Error: \n",
      " Accuracy: 64.8%, Avg loss: 1.100621 \n",
      "\n",
      "Epoch 6\n",
      "-------------------------------\n",
      "loss: 1.100171  [   64/60000]\n",
      "loss: 1.063560  [ 6464/60000]\n",
      "loss: 0.880050  [12864/60000]\n",
      "loss: 1.012880  [19264/60000]\n",
      "loss: 1.128127  [25664/60000]\n",
      "loss: 0.895639  [32064/60000]\n",
      "loss: 1.135870  [38464/60000]\n",
      "loss: 0.964544  [44864/60000]\n",
      "loss: 0.988212  [51264/60000]\n",
      "loss: 0.899175  [57664/60000]\n",
      "Test Error: \n",
      " Accuracy: 65.8%, Avg loss: 0.992354 \n",
      "\n",
      "Epoch 7\n",
      "-------------------------------\n",
      "loss: 1.116620  [   64/60000]\n",
      "loss: 0.948719  [ 6464/60000]\n",
      "loss: 1.031643  [12864/60000]\n",
      "loss: 0.977279  [19264/60000]\n",
      "loss: 1.094042  [25664/60000]\n",
      "loss: 0.887111  [32064/60000]\n",
      "loss: 0.963153  [38464/60000]\n",
      "loss: 0.976935  [44864/60000]\n",
      "loss: 0.867483  [51264/60000]\n",
      "loss: 0.744526  [57664/60000]\n",
      "Test Error: \n",
      " Accuracy: 67.4%, Avg loss: 0.916904 \n",
      "\n",
      "Epoch 8\n",
      "-------------------------------\n",
      "loss: 1.033535  [   64/60000]\n",
      "loss: 0.899895  [ 6464/60000]\n",
      "loss: 1.126086  [12864/60000]\n",
      "loss: 0.850001  [19264/60000]\n",
      "loss: 0.836180  [25664/60000]\n",
      "loss: 1.103151  [32064/60000]\n",
      "loss: 0.835952  [38464/60000]\n",
      "loss: 0.838465  [44864/60000]\n",
      "loss: 0.974580  [51264/60000]\n",
      "loss: 0.990393  [57664/60000]\n",
      "Test Error: \n",
      " Accuracy: 68.5%, Avg loss: 0.862936 \n",
      "\n",
      "Epoch 9\n",
      "-------------------------------\n",
      "loss: 0.757969  [   64/60000]\n",
      "loss: 0.902768  [ 6464/60000]\n",
      "loss: 0.946910  [12864/60000]\n",
      "loss: 0.711804  [19264/60000]\n",
      "loss: 0.814831  [25664/60000]\n",
      "loss: 0.848725  [32064/60000]\n",
      "loss: 1.003670  [38464/60000]\n",
      "loss: 0.841641  [44864/60000]\n",
      "loss: 0.825010  [51264/60000]\n",
      "loss: 0.842404  [57664/60000]\n",
      "Test Error: \n",
      " Accuracy: 69.7%, Avg loss: 0.823817 \n",
      "\n",
      "Epoch 10\n",
      "-------------------------------\n",
      "loss: 0.773876  [   64/60000]\n",
      "loss: 0.858220  [ 6464/60000]\n",
      "loss: 0.794130  [12864/60000]\n",
      "loss: 0.932512  [19264/60000]\n",
      "loss: 0.664920  [25664/60000]\n",
      "loss: 0.780060  [32064/60000]\n",
      "loss: 1.037447  [38464/60000]\n",
      "loss: 0.736584  [44864/60000]\n",
      "loss: 0.787320  [51264/60000]\n",
      "loss: 0.748516  [57664/60000]\n",
      "Test Error: \n",
      " Accuracy: 71.2%, Avg loss: 0.794087 \n",
      "\n",
      "Done!\n"
     ]
    }
   ],
   "execution_count": 44
  }
 ],
 "metadata": {
  "kernelspec": {
   "display_name": "Python 3",
   "language": "python",
   "name": "python3"
  },
  "language_info": {
   "codemirror_mode": {
    "name": "ipython",
    "version": 2
   },
   "file_extension": ".py",
   "mimetype": "text/x-python",
   "name": "python",
   "nbconvert_exporter": "python",
   "pygments_lexer": "ipython2",
   "version": "2.7.6"
  }
 },
 "nbformat": 4,
 "nbformat_minor": 5
}
