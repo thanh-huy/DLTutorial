{
 "cells": [
  {
   "cell_type": "code",
   "id": "initial_id",
   "metadata": {
    "collapsed": true,
    "ExecuteTime": {
     "end_time": "2025-06-17T09:26:24.096907Z",
     "start_time": "2025-06-17T09:26:22.463294Z"
    }
   },
   "source": [
    "import os\n",
    "import torch\n",
    "from torch import nn\n",
    "from torch.utils.data import DataLoader\n",
    "from torchvision import datasets, transforms"
   ],
   "outputs": [],
   "execution_count": 2
  },
  {
   "metadata": {
    "ExecuteTime": {
     "end_time": "2025-06-17T09:26:26.496998Z",
     "start_time": "2025-06-17T09:26:26.471394Z"
    }
   },
   "cell_type": "code",
   "source": [
    "device = torch.accelerator.current_accelerator().type if torch.accelerator.is_available() else \"cpu\"\n",
    "print(f\"Using {device} device\")"
   ],
   "id": "efcae80e32f3cfd9",
   "outputs": [
    {
     "name": "stdout",
     "output_type": "stream",
     "text": [
      "Using cuda device\n"
     ]
    }
   ],
   "execution_count": 3
  },
  {
   "metadata": {},
   "cell_type": "markdown",
   "source": "## 1. Định nghĩa lớp Neural Network",
   "id": "b50a532208d99e5b"
  },
  {
   "metadata": {
    "ExecuteTime": {
     "end_time": "2025-06-17T09:32:01.845798Z",
     "start_time": "2025-06-17T09:32:01.841150Z"
    }
   },
   "cell_type": "code",
   "source": [
    "class NeuralNetwork(nn.Module):\n",
    "    def __init__(self):\n",
    "        super().__init__()\n",
    "        self.flatten = nn.Flatten()\n",
    "        self.linear_stack = nn.Sequential(\n",
    "            nn.Linear(28 * 28, 512),\n",
    "            nn.ReLU(),\n",
    "            nn.Linear(512, 512),\n",
    "            nn.ReLU(),\n",
    "            nn.Linear(512, 10),\n",
    "        )\n",
    "    def forward(self, x):\n",
    "        x = self.flatten(x)\n",
    "        logits = self.linear_stack(x)\n",
    "        return logits"
   ],
   "id": "256a17c02c53d0d3",
   "outputs": [],
   "execution_count": 5
  },
  {
   "metadata": {},
   "cell_type": "markdown",
   "source": "## 2. Chuyển mô hình sang device để chuẩn bị huấn luyện",
   "id": "9feda503ca373145"
  },
  {
   "metadata": {
    "ExecuteTime": {
     "end_time": "2025-06-17T09:32:04.573539Z",
     "start_time": "2025-06-17T09:32:04.488312Z"
    }
   },
   "cell_type": "code",
   "source": [
    "model = NeuralNetwork().to(device)\n",
    "print(f\"model: \\n{model}\\n\")"
   ],
   "id": "dd669c281cd3a72",
   "outputs": [
    {
     "name": "stdout",
     "output_type": "stream",
     "text": [
      "model: \n",
      "NeuralNetwork(\n",
      "  (flatten): Flatten(start_dim=1, end_dim=-1)\n",
      "  (linear_stack): Sequential(\n",
      "    (0): Linear(in_features=784, out_features=512, bias=True)\n",
      "    (1): ReLU()\n",
      "    (2): Linear(in_features=512, out_features=512, bias=True)\n",
      "    (3): ReLU()\n",
      "    (4): Linear(in_features=512, out_features=10, bias=True)\n",
      "  )\n",
      ")\n",
      "\n"
     ]
    }
   ],
   "execution_count": 6
  },
  {
   "metadata": {},
   "cell_type": "markdown",
   "source": "## 3. Dự đoán giá trị đầu ra",
   "id": "55b2d0f9223a53c7"
  },
  {
   "metadata": {
    "ExecuteTime": {
     "end_time": "2025-06-17T09:35:27.854563Z",
     "start_time": "2025-06-17T09:35:27.710312Z"
    }
   },
   "cell_type": "code",
   "source": [
    "X = torch.randn(1, 28,28,device=device)\n",
    "logits = model(X)\n",
    "pred_probab = nn.Softmax(dim=1)(logits)\n",
    "y_pred = pred_probab.argmax(1)\n",
    "print(f\"y_pred: {y_pred}\")"
   ],
   "id": "9060a765310f739b",
   "outputs": [
    {
     "name": "stdout",
     "output_type": "stream",
     "text": [
      "y_pred: tensor([6], device='cuda:0')\n"
     ]
    }
   ],
   "execution_count": 7
  },
  {
   "metadata": {},
   "cell_type": "markdown",
   "source": "## 4. Phân tích các Layers",
   "id": "a64ced01b1944617"
  },
  {
   "metadata": {
    "ExecuteTime": {
     "end_time": "2025-06-17T10:14:42.700936Z",
     "start_time": "2025-06-17T10:14:42.697731Z"
    }
   },
   "cell_type": "code",
   "source": [
    "#input 3 ảnh kích thước 28x28\n",
    "input_image = torch.rand(3,28,28)\n",
    "print(f\"input_image: {input_image.size()}\\n\")"
   ],
   "id": "2f5ad21f765a9485",
   "outputs": [
    {
     "name": "stdout",
     "output_type": "stream",
     "text": [
      "input_image: torch.Size([3, 28, 28])\n",
      "\n"
     ]
    }
   ],
   "execution_count": 13
  },
  {
   "metadata": {
    "ExecuteTime": {
     "end_time": "2025-06-17T10:14:21.227638Z",
     "start_time": "2025-06-17T10:14:21.223849Z"
    }
   },
   "cell_type": "code",
   "source": [
    "#Lớp Flatten chuyển về vector phẳng 3 x 28x28 = 784\n",
    "flatten = nn.Flatten()\n",
    "flat_image = flatten(input_image)\n",
    "print(flat_image.size())"
   ],
   "id": "15515af629d96af3",
   "outputs": [
    {
     "name": "stdout",
     "output_type": "stream",
     "text": [
      "torch.Size([3, 784])\n"
     ]
    }
   ],
   "execution_count": 12
  },
  {
   "metadata": {
    "ExecuteTime": {
     "end_time": "2025-06-17T10:17:09.424995Z",
     "start_time": "2025-06-17T10:17:09.420576Z"
    }
   },
   "cell_type": "code",
   "source": [
    "#Lớp tuyến tính sử dụng biến đổi tuyến tính trên đầu vào với trọng số và bias\n",
    "layer1 = nn.Linear(in_features=28*28,out_features=20)\n",
    "hidden1 = layer1(flat_image)\n",
    "print(hidden1.size())"
   ],
   "id": "a63b33e3308ce917",
   "outputs": [
    {
     "name": "stdout",
     "output_type": "stream",
     "text": [
      "torch.Size([3, 20])\n"
     ]
    }
   ],
   "execution_count": 14
  },
  {
   "metadata": {
    "ExecuteTime": {
     "end_time": "2025-06-17T10:19:09.696654Z",
     "start_time": "2025-06-17T10:19:09.690495Z"
    }
   },
   "cell_type": "code",
   "source": [
    "# Hàm kích hoạt phi tuyến ReLU dùng để ánh xạ input và output của model. Thực hiện biến đổi phi tuyến bằng hàm kích hoạt ReLU\n",
    "print(f\"Before ReLU: {hidden1}\\n \")\n",
    "hidden1 = nn.ReLU()(hidden1)\n",
    "print(f\"After ReLU: {hidden1}\\n\")"
   ],
   "id": "cf0c97a0cf729403",
   "outputs": [
    {
     "name": "stdout",
     "output_type": "stream",
     "text": [
      "Before ReLU: tensor([[ 3.1865e-02, -2.4625e-01, -2.6016e-02, -2.3709e-01, -6.2701e-02,\n",
      "         -1.6343e-01, -1.4148e-01,  2.7189e-02,  7.6988e-04,  3.7723e-02,\n",
      "          6.4863e-02,  1.1575e-01,  5.2005e-01, -5.0643e-02, -4.0064e-01,\n",
      "          2.8441e-01, -2.5574e-01,  8.2022e-02,  8.8556e-02,  1.4547e-01],\n",
      "        [ 1.7520e-01, -2.7322e-01, -2.8195e-01, -9.2384e-02,  4.9458e-02,\n",
      "         -1.7391e-02, -3.3538e-01,  7.6093e-02, -3.4667e-04, -1.2512e-01,\n",
      "          6.3781e-02,  3.9614e-02,  6.5756e-01, -1.9252e-02, -4.2553e-01,\n",
      "          3.5806e-01, -1.3238e-01,  4.3512e-02,  1.2835e-02,  1.1239e-01],\n",
      "        [ 6.4933e-01, -1.2304e-01, -1.8138e-01, -1.8567e-01,  9.1221e-02,\n",
      "          2.3643e-02,  2.4345e-03,  3.0192e-01, -6.0268e-02, -1.0704e-01,\n",
      "          1.0123e-01, -1.4673e-01,  6.7450e-01, -1.7930e-01, -4.9973e-01,\n",
      "          3.2232e-01, -6.8332e-02, -1.7475e-01, -5.1150e-02,  5.7678e-01]],\n",
      "       grad_fn=<AddmmBackward0>)\n",
      " \n",
      "After ReLU: tensor([[0.0319, 0.0000, 0.0000, 0.0000, 0.0000, 0.0000, 0.0000, 0.0272, 0.0008,\n",
      "         0.0377, 0.0649, 0.1157, 0.5201, 0.0000, 0.0000, 0.2844, 0.0000, 0.0820,\n",
      "         0.0886, 0.1455],\n",
      "        [0.1752, 0.0000, 0.0000, 0.0000, 0.0495, 0.0000, 0.0000, 0.0761, 0.0000,\n",
      "         0.0000, 0.0638, 0.0396, 0.6576, 0.0000, 0.0000, 0.3581, 0.0000, 0.0435,\n",
      "         0.0128, 0.1124],\n",
      "        [0.6493, 0.0000, 0.0000, 0.0000, 0.0912, 0.0236, 0.0024, 0.3019, 0.0000,\n",
      "         0.0000, 0.1012, 0.0000, 0.6745, 0.0000, 0.0000, 0.3223, 0.0000, 0.0000,\n",
      "         0.0000, 0.5768]], grad_fn=<ReluBackward0>)\n",
      "\n"
     ]
    }
   ],
   "execution_count": 15
  },
  {
   "metadata": {
    "ExecuteTime": {
     "end_time": "2025-06-17T10:21:29.336510Z",
     "start_time": "2025-06-17T10:21:29.332932Z"
    }
   },
   "cell_type": "code",
   "source": [
    "# Sequential tạo một container để chứa các modul layers\n",
    "seq_modules = nn.Sequential(\n",
    "    flatten,\n",
    "    layer1,\n",
    "    nn.ReLU(),\n",
    "    nn.Linear(in_features=20,out_features=10)\n",
    ")\n",
    "input_image = torch.rand(3,28,28)\n",
    "logits = seq_modules(input_image)"
   ],
   "id": "e2c7ba71e285adbf",
   "outputs": [],
   "execution_count": 17
  },
  {
   "metadata": {
    "ExecuteTime": {
     "end_time": "2025-06-17T10:23:04.691093Z",
     "start_time": "2025-06-17T10:23:04.688185Z"
    }
   },
   "cell_type": "code",
   "source": [
    "# nn.Softmax lớp tuyến tính đầu ra trả về logits dùng để phân loại xác suất đầu ra trong khoảng [0,1]\n",
    "softmax = nn.Softmax(dim=1)\n",
    "pred_probab = softmax(logits)"
   ],
   "id": "3f74e0804a8a372d",
   "outputs": [],
   "execution_count": 18
  },
  {
   "metadata": {
    "ExecuteTime": {
     "end_time": "2025-06-17T10:24:09.489706Z",
     "start_time": "2025-06-17T10:24:09.475082Z"
    }
   },
   "cell_type": "code",
   "source": [
    "# Hiện các tham số của mô hình\n",
    "print(f\"Model structure: {model}\\n\\n\")\n",
    "for name, param in model.named_parameters():\n",
    "    print(f\"Layer: {name} | Size: {param.size()} | Values : {param[:2]} \\n\")"
   ],
   "id": "83b0799ddc0f769f",
   "outputs": [
    {
     "name": "stdout",
     "output_type": "stream",
     "text": [
      "Model structure: NeuralNetwork(\n",
      "  (flatten): Flatten(start_dim=1, end_dim=-1)\n",
      "  (linear_stack): Sequential(\n",
      "    (0): Linear(in_features=784, out_features=512, bias=True)\n",
      "    (1): ReLU()\n",
      "    (2): Linear(in_features=512, out_features=512, bias=True)\n",
      "    (3): ReLU()\n",
      "    (4): Linear(in_features=512, out_features=10, bias=True)\n",
      "  )\n",
      ")\n",
      "\n",
      "\n",
      "Layer: linear_stack.0.weight | Size: torch.Size([512, 784]) | Values : tensor([[-0.0216,  0.0139,  0.0165,  ..., -0.0041, -0.0321,  0.0197],\n",
      "        [ 0.0125,  0.0029, -0.0160,  ...,  0.0351, -0.0223,  0.0336]],\n",
      "       device='cuda:0', grad_fn=<SliceBackward0>) \n",
      "\n",
      "Layer: linear_stack.0.bias | Size: torch.Size([512]) | Values : tensor([0.0009, 0.0318], device='cuda:0', grad_fn=<SliceBackward0>) \n",
      "\n",
      "Layer: linear_stack.2.weight | Size: torch.Size([512, 512]) | Values : tensor([[-0.0416,  0.0064, -0.0263,  ...,  0.0040,  0.0242,  0.0192],\n",
      "        [-0.0043, -0.0137,  0.0384,  ...,  0.0199, -0.0392,  0.0161]],\n",
      "       device='cuda:0', grad_fn=<SliceBackward0>) \n",
      "\n",
      "Layer: linear_stack.2.bias | Size: torch.Size([512]) | Values : tensor([0.0260, 0.0413], device='cuda:0', grad_fn=<SliceBackward0>) \n",
      "\n",
      "Layer: linear_stack.4.weight | Size: torch.Size([10, 512]) | Values : tensor([[-0.0082, -0.0384, -0.0320,  ...,  0.0400, -0.0196, -0.0002],\n",
      "        [-0.0400, -0.0106,  0.0127,  ...,  0.0106,  0.0101, -0.0354]],\n",
      "       device='cuda:0', grad_fn=<SliceBackward0>) \n",
      "\n",
      "Layer: linear_stack.4.bias | Size: torch.Size([10]) | Values : tensor([-0.0022, -0.0100], device='cuda:0', grad_fn=<SliceBackward0>) \n",
      "\n"
     ]
    }
   ],
   "execution_count": 19
  }
 ],
 "metadata": {
  "kernelspec": {
   "display_name": "Python 3",
   "language": "python",
   "name": "python3"
  },
  "language_info": {
   "codemirror_mode": {
    "name": "ipython",
    "version": 2
   },
   "file_extension": ".py",
   "mimetype": "text/x-python",
   "name": "python",
   "nbconvert_exporter": "python",
   "pygments_lexer": "ipython2",
   "version": "2.7.6"
  }
 },
 "nbformat": 4,
 "nbformat_minor": 5
}
