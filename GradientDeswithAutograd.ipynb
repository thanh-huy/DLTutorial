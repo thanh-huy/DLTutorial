{
 "cells": [
  {
   "metadata": {},
   "cell_type": "markdown",
   "source": "# Tự động tính đạo hàm với torch.autograd",
   "id": "b9e3d16889854bfa"
  },
  {
   "metadata": {},
   "cell_type": "markdown",
   "source": [
    "## Sơ đồ mạng Neural cho như sau\n",
    "<img src=\"nn.png\" alt=\"Mạng Neural y=w*x+b\" width=\"600\">"
   ],
   "id": "a23c3651ed9d4e49"
  },
  {
   "cell_type": "code",
   "id": "initial_id",
   "metadata": {
    "collapsed": true,
    "ExecuteTime": {
     "end_time": "2025-06-18T09:05:05.032715Z",
     "start_time": "2025-06-18T09:05:05.029597Z"
    }
   },
   "source": [
    "import torch\n",
    "x = torch.ones(5)\n",
    "y = torch.zeros(3)\n",
    "\n",
    "w = torch.randn(5,3, requires_grad=True)\n",
    "\n",
    "b = torch.randn(3, requires_grad=True)\n",
    "z = torch.matmul(x,w) + b\n",
    "loss = torch.nn.functional.binary_cross_entropy_with_logits(z,y)"
   ],
   "outputs": [],
   "execution_count": 27
  },
  {
   "metadata": {
    "ExecuteTime": {
     "end_time": "2025-06-18T09:04:58.643214Z",
     "start_time": "2025-06-18T09:04:58.640357Z"
    }
   },
   "cell_type": "code",
   "source": [
    "print(f\"Gradient function for z: {z.grad_fn}\")\n",
    "print(f\"Gradient function for loss: {loss.grad_fn}\")"
   ],
   "id": "23f85ab9b66963be",
   "outputs": [
    {
     "name": "stdout",
     "output_type": "stream",
     "text": [
      "Gradient function for z: <AddBackward0 object at 0x7770d99c91e0>\n",
      "Gradient function for loss: <BinaryCrossEntropyWithLogitsBackward0 object at 0x7770c136cdf0>\n"
     ]
    }
   ],
   "execution_count": 24
  },
  {
   "metadata": {
    "ExecuteTime": {
     "end_time": "2025-06-18T09:05:08.433901Z",
     "start_time": "2025-06-18T09:05:08.430565Z"
    }
   },
   "cell_type": "code",
   "source": [
    "loss.backward()\n",
    "print(w.grad)\n",
    "print(b.grad)"
   ],
   "id": "f57d364db4f1bc68",
   "outputs": [
    {
     "name": "stdout",
     "output_type": "stream",
     "text": [
      "tensor([[0.0168, 0.0349, 0.2942],\n",
      "        [0.0168, 0.0349, 0.2942],\n",
      "        [0.0168, 0.0349, 0.2942],\n",
      "        [0.0168, 0.0349, 0.2942],\n",
      "        [0.0168, 0.0349, 0.2942]])\n",
      "tensor([0.0168, 0.0349, 0.2942])\n"
     ]
    }
   ],
   "execution_count": 28
  },
  {
   "metadata": {},
   "cell_type": "markdown",
   "source": "## Tắt tính Gradient Decent (TH muốn đóng băng parameter của mô hinh)",
   "id": "5fc1abfd9f879f5e"
  },
  {
   "metadata": {
    "ExecuteTime": {
     "end_time": "2025-06-18T09:11:42.048995Z",
     "start_time": "2025-06-18T09:11:42.044865Z"
    }
   },
   "cell_type": "code",
   "source": [
    "z = torch.matmul(x,w) + b\n",
    "print(f\"z.grad={z.requires_grad} \\n\")\n",
    "with torch.no_grad():\n",
    "    z = torch.matmul(x,w) + b\n",
    "print(f\"z.no_grad={z.requires_grad} \\n\")"
   ],
   "id": "f74c26a23feddd8b",
   "outputs": [
    {
     "name": "stdout",
     "output_type": "stream",
     "text": [
      "z.grad=True \n",
      "\n",
      "z.no_grad=False \n",
      "\n"
     ]
    }
   ],
   "execution_count": 29
  },
  {
   "metadata": {},
   "cell_type": "markdown",
   "source": [
    "## Tính toán trên đồ thị\n",
    "### autograd_ tạo một bản ghi của dữ liệu (tensor) và tính toán trên một đồ thị có hướng không chu trình (DAG - directed acyclic graph )\n",
    "### nó bao gồm một đối tượng Function.\n",
    "### Trên đồ thị, các nút là input tensor, các nút gốc là output tensors\n",
    "### Bằng cách theo dõi đồ thị từ nút gốc đến nút lá, ta có thể tính toán gradients sử dụng quy tắc dây chuyền (chain rule)"
   ],
   "id": "e423f2d81048d2a9"
  },
  {
   "metadata": {},
   "cell_type": "markdown",
   "source": "## Tensor Gradient và phép nhân Jacobian",
   "id": "84e18b1ebb12319d"
  },
  {
   "metadata": {
    "ExecuteTime": {
     "end_time": "2025-06-18T09:24:56.994855Z",
     "start_time": "2025-06-18T09:24:56.700489Z"
    }
   },
   "cell_type": "code",
   "source": [
    "inp = torch.eye(4, 5, requires_grad=True)\n",
    "out = (inp+1).pow(2).t()\n",
    "out.backward(torch.ones_like(out), retain_graph=True)\n",
    "print(f\"First call\\n{inp.grad}\")\n",
    "out.backward(torch.ones_like(out), retain_graph=True)\n",
    "print(f\"\\nSecond call\\n{inp.grad}\")\n",
    "inp.grad.zero_()\n",
    "out.backward(torch.ones_like(out), retain_graph=True)\n",
    "print(f\"\\nCall after zeroing gradients\\n{inp.grad}\")"
   ],
   "id": "1434e9ccc42eea29",
   "outputs": [
    {
     "name": "stdout",
     "output_type": "stream",
     "text": [
      "First call\n",
      "tensor([[4., 2., 2., 2., 2.],\n",
      "        [2., 4., 2., 2., 2.],\n",
      "        [2., 2., 4., 2., 2.],\n",
      "        [2., 2., 2., 4., 2.]])\n",
      "\n",
      "Second call\n",
      "tensor([[8., 4., 4., 4., 4.],\n",
      "        [4., 8., 4., 4., 4.],\n",
      "        [4., 4., 8., 4., 4.],\n",
      "        [4., 4., 4., 8., 4.]])\n",
      "\n",
      "Call after zeroing gradients\n",
      "tensor([[4., 2., 2., 2., 2.],\n",
      "        [2., 4., 2., 2., 2.],\n",
      "        [2., 2., 4., 2., 2.],\n",
      "        [2., 2., 2., 4., 2.]])\n"
     ]
    }
   ],
   "execution_count": 30
  }
 ],
 "metadata": {
  "kernelspec": {
   "display_name": "Python 3",
   "language": "python",
   "name": "python3"
  },
  "language_info": {
   "codemirror_mode": {
    "name": "ipython",
    "version": 2
   },
   "file_extension": ".py",
   "mimetype": "text/x-python",
   "name": "python",
   "nbconvert_exporter": "python",
   "pygments_lexer": "ipython2",
   "version": "2.7.6"
  }
 },
 "nbformat": 4,
 "nbformat_minor": 5
}
