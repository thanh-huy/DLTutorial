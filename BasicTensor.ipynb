{
 "cells": [
  {
   "metadata": {},
   "cell_type": "markdown",
   "source": "# Cơ bản về Tensor",
   "id": "f878db967d6092c0"
  },
  {
   "metadata": {},
   "cell_type": "markdown",
   "source": "## 1.1. Khởi tạo Tensor",
   "id": "8ccf3c1a041b2ce"
  },
  {
   "metadata": {
    "ExecuteTime": {
     "end_time": "2025-06-17T07:43:39.479174Z",
     "start_time": "2025-06-17T07:43:37.279723Z"
    }
   },
   "cell_type": "code",
   "source": [
    "import torch\n",
    "import numpy as np\n",
    "from IPython.core.history import extract_hist_ranges"
   ],
   "id": "b298e9259287bdb6",
   "outputs": [],
   "execution_count": 2
  },
  {
   "cell_type": "code",
   "id": "initial_id",
   "metadata": {
    "collapsed": true,
    "ExecuteTime": {
     "end_time": "2025-06-17T07:43:58.862557Z",
     "start_time": "2025-06-17T07:43:58.858289Z"
    }
   },
   "source": [
    "#Khởi tạo trực tiếp từ mảng\n",
    "data = [[1,2],[3,4],[5,6]]\n",
    "x_data = torch.tensor(data)\n",
    "print(x_data)"
   ],
   "outputs": [
    {
     "name": "stdout",
     "output_type": "stream",
     "text": [
      "tensor([[1, 2],\n",
      "        [3, 4],\n",
      "        [5, 6]])\n"
     ]
    }
   ],
   "execution_count": 4
  },
  {
   "metadata": {
    "ExecuteTime": {
     "end_time": "2025-06-17T07:44:48.316166Z",
     "start_time": "2025-06-17T07:44:48.312502Z"
    }
   },
   "cell_type": "code",
   "source": [
    "#Tạo Tensor từ numpy array\n",
    "np_array = np.array(data)\n",
    "x_np = torch.from_numpy(np_array)\n",
    "print(x_np)"
   ],
   "id": "bf4c227406530fb4",
   "outputs": [
    {
     "name": "stdout",
     "output_type": "stream",
     "text": [
      "tensor([[1, 2],\n",
      "        [3, 4],\n",
      "        [5, 6]])\n"
     ]
    }
   ],
   "execution_count": 6
  },
  {
   "metadata": {
    "ExecuteTime": {
     "end_time": "2025-06-17T07:46:44.868958Z",
     "start_time": "2025-06-17T07:46:44.864549Z"
    }
   },
   "cell_type": "code",
   "source": [
    "# Tạo tensor từ tensor khác\n",
    "x_ones = torch.ones_like(x_data)\n",
    "print(f\"Ones tensor: \\n {x_ones} \\n\")\n",
    "x_rand = torch.randn_like(x_data, dtype=torch.float)\n",
    "print(f\"Random Tensor: \\n {x_rand} \\n\")"
   ],
   "id": "e4c405744a6a74e0",
   "outputs": [
    {
     "name": "stdout",
     "output_type": "stream",
     "text": [
      "Ones tensor: \n",
      " tensor([[1, 1],\n",
      "        [1, 1],\n",
      "        [1, 1]]) \n",
      "\n",
      "Random Tensor: \n",
      " tensor([[ 0.2042, -1.0943],\n",
      "        [ 0.9585,  0.7055],\n",
      "        [-0.5731, -0.2771]]) \n",
      "\n"
     ]
    }
   ],
   "execution_count": 7
  },
  {
   "metadata": {
    "ExecuteTime": {
     "end_time": "2025-06-17T07:48:11.573454Z",
     "start_time": "2025-06-17T07:48:11.566206Z"
    }
   },
   "cell_type": "code",
   "source": [
    "# Tạo các tensor từ hằng và giá trị random\n",
    "shape = (2,3)\n",
    "rand_tensor = torch.randn(shape)\n",
    "ones_tensor = torch.ones(shape)\n",
    "zeros_tensor = torch.zeros(shape)\n",
    "print(f\"Random Tensor: \\n {rand_tensor} \\n\")\n",
    "print(f\"Ones Tensor: \\n {ones_tensor} \\n\")\n",
    "print(f\"Zeros Tensor: \\n {zeros_tensor} \\n\")"
   ],
   "id": "4b25511da0be1873",
   "outputs": [
    {
     "name": "stdout",
     "output_type": "stream",
     "text": [
      "Random Tensor: \n",
      " tensor([[-0.6347,  0.1967, -1.0508],\n",
      "        [ 0.1778,  0.4728, -0.2700]]) \n",
      "\n",
      "Ones Tensor: \n",
      " tensor([[1., 1., 1.],\n",
      "        [1., 1., 1.]]) \n",
      "\n",
      "Zeros Tensor: \n",
      " tensor([[0., 0., 0.],\n",
      "        [0., 0., 0.]]) \n",
      "\n"
     ]
    }
   ],
   "execution_count": 8
  },
  {
   "metadata": {},
   "cell_type": "markdown",
   "source": "## 1.2. Các thuộc tính của Tensor",
   "id": "a3b730bac9ebcdb2"
  },
  {
   "metadata": {
    "ExecuteTime": {
     "end_time": "2025-06-17T07:52:38.771007Z",
     "start_time": "2025-06-17T07:52:38.766023Z"
    }
   },
   "cell_type": "code",
   "source": [
    "my_tensor = torch.randn(shape)\n",
    "print(f\"Shape of Tensor: {my_tensor.shape} \\n.\")\n",
    "print(f\"Data type of Tensor: {my_tensor.dtype} \\n.\")\n",
    "print(f\"Device of Tensor: {my_tensor.device} \\n.\")"
   ],
   "id": "d09b0d4be37e8e55",
   "outputs": [
    {
     "name": "stdout",
     "output_type": "stream",
     "text": [
      "Shape of Tensor: torch.Size([2, 3]) \n",
      ".\n",
      "Data type of Tensor: torch.float32 \n",
      ".\n",
      "Device of Tensor: cpu \n",
      ".\n"
     ]
    }
   ],
   "execution_count": 14
  },
  {
   "metadata": {
    "ExecuteTime": {
     "end_time": "2025-06-17T07:52:40.577312Z",
     "start_time": "2025-06-17T07:52:40.572964Z"
    }
   },
   "cell_type": "code",
   "source": [
    "# We move our tensor to the current accelerator if available\n",
    "if torch.accelerator.is_available():\n",
    "    tensor = my_tensor.to(torch.accelerator.current_accelerator())\n",
    "print(f\"Device of Tensor: {my_tensor.device} \\n.\")\n"
   ],
   "id": "2395d4161c39b508",
   "outputs": [
    {
     "name": "stdout",
     "output_type": "stream",
     "text": [
      "Device of Tensor: cpu \n",
      ".\n"
     ]
    }
   ],
   "execution_count": 15
  },
  {
   "metadata": {},
   "cell_type": "markdown",
   "source": "## 1.3. Các toán tử trên Tensor",
   "id": "42cbb581b7671d9e"
  },
  {
   "metadata": {
    "ExecuteTime": {
     "end_time": "2025-06-17T08:02:17.227620Z",
     "start_time": "2025-06-17T08:02:17.218957Z"
    }
   },
   "cell_type": "code",
   "source": [
    "# Truy cập chỉ mục và lát cắt như numpy\n",
    "tensor = torch.rand(4,4)\n",
    "print(f\"Orginal Tensor: \\n {tensor} \\n.\")\n",
    "print(f\"First row: {tensor[0]} \\n.\")\n",
    "print(f\"First column: {tensor[:,0]} \\n.\")\n",
    "print(f\"Last row: {tensor[:,-1]} \\n.\")\n",
    "tensor[:,1]=0\n",
    "print(tensor)"
   ],
   "id": "ad3fa1ea108dcec4",
   "outputs": [
    {
     "name": "stdout",
     "output_type": "stream",
     "text": [
      "Orginal Tensor: \n",
      " tensor([[0.3414, 0.7072, 0.4088, 0.8657],\n",
      "        [0.4767, 0.0519, 0.2285, 0.6970],\n",
      "        [0.6728, 0.5976, 0.0743, 0.8761],\n",
      "        [0.0640, 0.3985, 0.9906, 0.3761]]) \n",
      ".\n",
      "First row: tensor([0.3414, 0.7072, 0.4088, 0.8657]) \n",
      ".\n",
      "First column: tensor([0.3414, 0.4767, 0.6728, 0.0640]) \n",
      ".\n",
      "Last row: tensor([0.8657, 0.6970, 0.8761, 0.3761]) \n",
      ".\n",
      "tensor([[0.3414, 0.0000, 0.4088, 0.8657],\n",
      "        [0.4767, 0.0000, 0.2285, 0.6970],\n",
      "        [0.6728, 0.0000, 0.0743, 0.8761],\n",
      "        [0.0640, 0.0000, 0.9906, 0.3761]])\n"
     ]
    }
   ],
   "execution_count": 22
  },
  {
   "metadata": {
    "ExecuteTime": {
     "end_time": "2025-06-17T08:05:41.104566Z",
     "start_time": "2025-06-17T08:05:41.099667Z"
    }
   },
   "cell_type": "code",
   "source": [
    "# Nối các Tensor bằng cat\n",
    "t1 = torch.cat((tensor,tensor,tensor),dim=0) #dim = 0 nối theo hàng, dim = 1: nối theo cột\n",
    "print(t1.shape)\n",
    "print(t1)"
   ],
   "id": "be1ec73bc03b4042",
   "outputs": [
    {
     "name": "stdout",
     "output_type": "stream",
     "text": [
      "torch.Size([12, 4])\n",
      "tensor([[0.3414, 0.0000, 0.4088, 0.8657],\n",
      "        [0.4767, 0.0000, 0.2285, 0.6970],\n",
      "        [0.6728, 0.0000, 0.0743, 0.8761],\n",
      "        [0.0640, 0.0000, 0.9906, 0.3761],\n",
      "        [0.3414, 0.0000, 0.4088, 0.8657],\n",
      "        [0.4767, 0.0000, 0.2285, 0.6970],\n",
      "        [0.6728, 0.0000, 0.0743, 0.8761],\n",
      "        [0.0640, 0.0000, 0.9906, 0.3761],\n",
      "        [0.3414, 0.0000, 0.4088, 0.8657],\n",
      "        [0.4767, 0.0000, 0.2285, 0.6970],\n",
      "        [0.6728, 0.0000, 0.0743, 0.8761],\n",
      "        [0.0640, 0.0000, 0.9906, 0.3761]])\n"
     ]
    }
   ],
   "execution_count": 27
  },
  {
   "metadata": {
    "ExecuteTime": {
     "end_time": "2025-06-17T08:17:16.799535Z",
     "start_time": "2025-06-17T08:17:16.790128Z"
    }
   },
   "cell_type": "code",
   "source": [
    "# Các phép toán trên Tensor\n",
    "tensor = torch.ones(4,4)\n",
    "tensor[:,1]=0\n",
    "y1 = tensor @ tensor.T\n",
    "y2 = tensor.matmul(tensor.T)\n",
    "print(f\"tensor @ tensor.T :\\n {y1} \\n\")\n",
    "print(f\"tensor matmul tensor.T :\\n {y2} \\n\")\n",
    "y3 = torch.rand_like(y1)\n",
    "torch.matmul(tensor,tensor.T, out=y3)\n",
    "\n",
    "z1 = tensor * tensor\n",
    "print(f\"tensor * tensor \\n {z1} \\n\")\n",
    "z2 = tensor.mul(tensor)\n",
    "z3 = torch.rand_like(tensor)\n",
    "torch.mul(tensor,tensor,out=z3)"
   ],
   "id": "a2c9c6f2bb160e05",
   "outputs": [
    {
     "name": "stdout",
     "output_type": "stream",
     "text": [
      "tensor @ tensor.T :\n",
      " tensor([[3., 3., 3., 3.],\n",
      "        [3., 3., 3., 3.],\n",
      "        [3., 3., 3., 3.],\n",
      "        [3., 3., 3., 3.]]) \n",
      "\n",
      "tensor matmul tensor.T :\n",
      " tensor([[3., 3., 3., 3.],\n",
      "        [3., 3., 3., 3.],\n",
      "        [3., 3., 3., 3.],\n",
      "        [3., 3., 3., 3.]]) \n",
      "\n",
      "tensor * tensor \n",
      " tensor([[1., 0., 1., 1.],\n",
      "        [1., 0., 1., 1.],\n",
      "        [1., 0., 1., 1.],\n",
      "        [1., 0., 1., 1.]]) \n",
      "\n"
     ]
    },
    {
     "data": {
      "text/plain": [
       "tensor([[1., 0., 1., 1.],\n",
       "        [1., 0., 1., 1.],\n",
       "        [1., 0., 1., 1.],\n",
       "        [1., 0., 1., 1.]])"
      ]
     },
     "execution_count": 30,
     "metadata": {},
     "output_type": "execute_result"
    }
   ],
   "execution_count": 30
  },
  {
   "metadata": {
    "ExecuteTime": {
     "end_time": "2025-06-17T08:19:59.722157Z",
     "start_time": "2025-06-17T08:19:59.718936Z"
    }
   },
   "cell_type": "code",
   "source": [
    "# Tính tổng các phần tử trên Tensor\n",
    "agg = tensor.sum()\n",
    "print(f\"tensor sum tensor \\n {agg} \\n\")\n",
    "agg_item = agg.item()\n",
    "print(f\"tensor sum tensor \\n {agg_item} ,\\t {type(agg_item)}\\n\")"
   ],
   "id": "2dfdc35ad1f6e346",
   "outputs": [
    {
     "name": "stdout",
     "output_type": "stream",
     "text": [
      "tensor sum tensor \n",
      " 12.0 \n",
      "\n",
      "tensor sum tensor \n",
      " 12.0 ,\t <class 'float'>\n",
      "\n"
     ]
    }
   ],
   "execution_count": 32
  },
  {
   "metadata": {
    "ExecuteTime": {
     "end_time": "2025-06-17T08:22:34.168603Z",
     "start_time": "2025-06-17T08:22:34.163846Z"
    }
   },
   "cell_type": "code",
   "source": [
    "#Các biểu thức gán kết hợp bằng hậu tố _ đằng sau toán tử. VD: x.copy_(y); x.add_(y) ~ x+=y\n",
    "print(f\"tensor:{tensor}\")\n",
    "tensor.add_(5)"
   ],
   "id": "599e5904a294de38",
   "outputs": [
    {
     "name": "stdout",
     "output_type": "stream",
     "text": [
      "tensor:tensor([[1., 0., 1., 1.],\n",
      "        [1., 0., 1., 1.],\n",
      "        [1., 0., 1., 1.],\n",
      "        [1., 0., 1., 1.]])\n"
     ]
    },
    {
     "data": {
      "text/plain": [
       "tensor([[6., 5., 6., 6.],\n",
       "        [6., 5., 6., 6.],\n",
       "        [6., 5., 6., 6.],\n",
       "        [6., 5., 6., 6.]])"
      ]
     },
     "execution_count": 33,
     "metadata": {},
     "output_type": "execute_result"
    }
   ],
   "execution_count": 33
  },
  {
   "metadata": {},
   "cell_type": "markdown",
   "source": "## 1.4 Chuyển đổi với",
   "id": "da334523326cb768"
  },
  {
   "metadata": {
    "ExecuteTime": {
     "end_time": "2025-06-17T08:24:14.911290Z",
     "start_time": "2025-06-17T08:24:14.905001Z"
    }
   },
   "cell_type": "code",
   "source": [
    "#Tensor to numpy array\n",
    "t = torch.ones(5)\n",
    "print(f\"Tensor t: \\n {t} \\n\")\n",
    "n = t.numpy()\n",
    "print(f\"Numpy n: \\n {n} \\n\")"
   ],
   "id": "bcfa77be2aa4b900",
   "outputs": [
    {
     "name": "stdout",
     "output_type": "stream",
     "text": [
      "Tensor t: \n",
      " tensor([1., 1., 1., 1., 1.]) \n",
      "\n",
      "Numpy n: \n",
      " [1. 1. 1. 1. 1.] \n",
      "\n"
     ]
    }
   ],
   "execution_count": 34
  },
  {
   "metadata": {
    "ExecuteTime": {
     "end_time": "2025-06-17T08:25:28.170089Z",
     "start_time": "2025-06-17T08:25:28.165903Z"
    }
   },
   "cell_type": "code",
   "source": [
    "# Khi convert thực chất là tham chiếu nên phép biến đổi tensor sẽ làm thay đổi numpy\n",
    "t.add_(1)\n",
    "print(f\"Tensor t: \\n {t} \\n\")\n",
    "print(f\"Numpy n: \\n {n} \\n\")"
   ],
   "id": "8febc05da46fb368",
   "outputs": [
    {
     "name": "stdout",
     "output_type": "stream",
     "text": [
      "Tensor t: \n",
      " tensor([2., 2., 2., 2., 2.]) \n",
      "\n",
      "Numpy n: \n",
      " [2. 2. 2. 2. 2.] \n",
      "\n"
     ]
    }
   ],
   "execution_count": 35
  },
  {
   "metadata": {
    "ExecuteTime": {
     "end_time": "2025-06-17T08:26:17.616090Z",
     "start_time": "2025-06-17T08:26:17.612248Z"
    }
   },
   "cell_type": "code",
   "source": [
    "# Numpy to tensor\n",
    "n = np.ones(5)\n",
    "t = torch.from_numpy(n)"
   ],
   "id": "3cc984a3c28a402",
   "outputs": [],
   "execution_count": 36
  },
  {
   "metadata": {
    "ExecuteTime": {
     "end_time": "2025-06-17T08:26:28.809306Z",
     "start_time": "2025-06-17T08:26:28.804956Z"
    }
   },
   "cell_type": "code",
   "source": [
    "np.add(n, 1, out=n)\n",
    "print(f\"t: {t}\")\n",
    "print(f\"n: {n}\")"
   ],
   "id": "2a9af6f0458587c1",
   "outputs": [
    {
     "name": "stdout",
     "output_type": "stream",
     "text": [
      "t: tensor([2., 2., 2., 2., 2.], dtype=torch.float64)\n",
      "n: [2. 2. 2. 2. 2.]\n"
     ]
    }
   ],
   "execution_count": 37
  }
 ],
 "metadata": {
  "kernelspec": {
   "display_name": "Python 3",
   "language": "python",
   "name": "python3"
  },
  "language_info": {
   "codemirror_mode": {
    "name": "ipython",
    "version": 2
   },
   "file_extension": ".py",
   "mimetype": "text/x-python",
   "name": "python",
   "nbconvert_exporter": "python",
   "pygments_lexer": "ipython2",
   "version": "2.7.6"
  }
 },
 "nbformat": 4,
 "nbformat_minor": 5
}
